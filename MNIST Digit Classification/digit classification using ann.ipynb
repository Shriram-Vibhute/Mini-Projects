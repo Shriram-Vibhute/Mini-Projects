{
 "cells": [
  {
   "cell_type": "markdown",
   "id": "738cc564",
   "metadata": {
    "_cell_guid": "b1076dfc-b9ad-4769-8c92-a6c4dae69d19",
    "_uuid": "8f2839f25d086af736a60e9eeb907d3b93b6e0e5",
    "execution": {
     "iopub.execute_input": "2024-09-02T12:21:37.455803Z",
     "iopub.status.busy": "2024-09-02T12:21:37.455380Z",
     "iopub.status.idle": "2024-09-02T12:21:37.869300Z",
     "shell.execute_reply": "2024-09-02T12:21:37.868156Z",
     "shell.execute_reply.started": "2024-09-02T12:21:37.455760Z"
    },
    "papermill": {
     "duration": 0.007744,
     "end_time": "2024-09-02T13:51:17.899888",
     "exception": false,
     "start_time": "2024-09-02T13:51:17.892144",
     "status": "completed"
    },
    "tags": []
   },
   "source": [
    "> # **DIGIT CLASSIFICARION USING ARTIFICIAL NEURAL NETWORK**\n",
    "> In this tutorial, we'll create an `artificial neural network (ANN)` for `digit classification` using `TensorFlow` and `Keras`. We'll leverage the built-in MNIST dataset for training and evaluation."
   ]
  },
  {
   "cell_type": "code",
   "execution_count": 1,
   "id": "ae01affb",
   "metadata": {
    "execution": {
     "iopub.execute_input": "2024-09-02T13:51:17.914491Z",
     "iopub.status.busy": "2024-09-02T13:51:17.913939Z",
     "iopub.status.idle": "2024-09-02T13:51:34.875513Z",
     "shell.execute_reply": "2024-09-02T13:51:34.874330Z"
    },
    "papermill": {
     "duration": 16.972401,
     "end_time": "2024-09-02T13:51:34.878565",
     "exception": false,
     "start_time": "2024-09-02T13:51:17.906164",
     "status": "completed"
    },
    "tags": []
   },
   "outputs": [],
   "source": [
    "import numpy as np\n",
    "import pandas as pd\n",
    "\n",
    "from sklearn.metrics import accuracy_score\n",
    "\n",
    "import tensorflow\n",
    "from tensorflow import keras\n",
    "from tensorflow.keras import Sequential\n",
    "from tensorflow.keras.layers import Dense, Flatten\n",
    "\n",
    "import warnings\n",
    "warnings.filterwarnings('ignore')"
   ]
  },
  {
   "cell_type": "markdown",
   "id": "f6929e98",
   "metadata": {
    "papermill": {
     "duration": 0.005901,
     "end_time": "2024-09-02T13:51:34.890972",
     "exception": false,
     "start_time": "2024-09-02T13:51:34.885071",
     "status": "completed"
    },
    "tags": []
   },
   "source": [
    "> ### DATASET OVERVIEW\n",
    "> - In this dataset, each image is organized as a `28x28 grid of pixel values ranging from 0 to 255`. These values represent the `grayscale intensity of each pixel` in the image.<br><br>\n",
    "> - To train a `deep neural network effectively`, it's crucial that `all features are on the same scale and within a consistent range`. Therefore, we normalize the pixel values by dividing them by 255, ensuring that each feature is scaled to the range [0, 1]."
   ]
  },
  {
   "cell_type": "code",
   "execution_count": 2,
   "id": "71b2762e",
   "metadata": {
    "execution": {
     "iopub.execute_input": "2024-09-02T13:51:34.906018Z",
     "iopub.status.busy": "2024-09-02T13:51:34.905147Z",
     "iopub.status.idle": "2024-09-02T13:51:35.381791Z",
     "shell.execute_reply": "2024-09-02T13:51:35.380658Z"
    },
    "papermill": {
     "duration": 0.487367,
     "end_time": "2024-09-02T13:51:35.384717",
     "exception": false,
     "start_time": "2024-09-02T13:51:34.897350",
     "status": "completed"
    },
    "tags": []
   },
   "outputs": [
    {
     "name": "stdout",
     "output_type": "stream",
     "text": [
      "Downloading data from https://storage.googleapis.com/tensorflow/tf-keras-datasets/mnist.npz\n",
      "\u001b[1m11490434/11490434\u001b[0m \u001b[32m━━━━━━━━━━━━━━━━━━━━\u001b[0m\u001b[37m\u001b[0m \u001b[1m0s\u001b[0m 0us/step\n"
     ]
    }
   ],
   "source": [
    "(X_train, y_train), (X_test, y_test) = keras.datasets.mnist.load_data()"
   ]
  },
  {
   "cell_type": "code",
   "execution_count": 3,
   "id": "3b93b065",
   "metadata": {
    "execution": {
     "iopub.execute_input": "2024-09-02T13:51:35.400192Z",
     "iopub.status.busy": "2024-09-02T13:51:35.399729Z",
     "iopub.status.idle": "2024-09-02T13:51:35.591865Z",
     "shell.execute_reply": "2024-09-02T13:51:35.590778Z"
    },
    "papermill": {
     "duration": 0.203029,
     "end_time": "2024-09-02T13:51:35.594681",
     "exception": false,
     "start_time": "2024-09-02T13:51:35.391652",
     "status": "completed"
    },
    "tags": []
   },
   "outputs": [],
   "source": [
    "X_train = X_train / 255\n",
    "X_test = X_test / 255"
   ]
  },
  {
   "cell_type": "markdown",
   "id": "cb691cfb",
   "metadata": {
    "papermill": {
     "duration": 0.006289,
     "end_time": "2024-09-02T13:51:35.607568",
     "exception": false,
     "start_time": "2024-09-02T13:51:35.601279",
     "status": "completed"
    },
    "tags": []
   },
   "source": [
    "<hr>"
   ]
  },
  {
   "cell_type": "markdown",
   "id": "d6b38681",
   "metadata": {
    "papermill": {
     "duration": 0.006134,
     "end_time": "2024-09-02T13:51:35.620327",
     "exception": false,
     "start_time": "2024-09-02T13:51:35.614193",
     "status": "completed"
    },
    "tags": []
   },
   "source": [
    "> ### ARTIFICIAL NEURAL NETWORK ARCHITECTURE\n",
    "> - `Flatten Layer`: The input layer flattens the 28x28 image into a 1-dimensional array of 784 elements. This prepares the data for the fully connected layers.\n",
    "> - `Dense Layer (784 units, ReLU activation)`: This fully connected layer has 784 neurons, each applying the ReLU (Rectified Linear Unit) activation function to introduce non-linearity and help the model learn complex patterns.\n",
    "> - `Dense Layer (32 units, ReLU activation)`: The second dense layer has 32 neurons, also using the ReLU activation function. This layer further refines the learned features and helps capture more abstract representations.\n",
    "> - `Dense Layer (10 units, Softmax activation)`: The final layer has 10 neurons, corresponding to the 10 digit classes (0-9). It uses the Softmax activation function to output a probability distribution over these classes, indicating the likelihood of each digit being present in the input image."
   ]
  },
  {
   "cell_type": "code",
   "execution_count": 4,
   "id": "35869ef4",
   "metadata": {
    "execution": {
     "iopub.execute_input": "2024-09-02T13:51:35.635133Z",
     "iopub.status.busy": "2024-09-02T13:51:35.634674Z",
     "iopub.status.idle": "2024-09-02T13:51:35.763347Z",
     "shell.execute_reply": "2024-09-02T13:51:35.762197Z"
    },
    "papermill": {
     "duration": 0.139155,
     "end_time": "2024-09-02T13:51:35.765972",
     "exception": false,
     "start_time": "2024-09-02T13:51:35.626817",
     "status": "completed"
    },
    "tags": []
   },
   "outputs": [
    {
     "data": {
      "text/html": [
       "<pre style=\"white-space:pre;overflow-x:auto;line-height:normal;font-family:Menlo,'DejaVu Sans Mono',consolas,'Courier New',monospace\"><span style=\"font-weight: bold\">Model: \"sequential\"</span>\n",
       "</pre>\n"
      ],
      "text/plain": [
       "\u001b[1mModel: \"sequential\"\u001b[0m\n"
      ]
     },
     "metadata": {},
     "output_type": "display_data"
    },
    {
     "data": {
      "text/html": [
       "<pre style=\"white-space:pre;overflow-x:auto;line-height:normal;font-family:Menlo,'DejaVu Sans Mono',consolas,'Courier New',monospace\">┏━━━━━━━━━━━━━━━━━━━━━━━━━━━━━━━━━┳━━━━━━━━━━━━━━━━━━━━━━━━┳━━━━━━━━━━━━━━━┓\n",
       "┃<span style=\"font-weight: bold\"> Layer (type)                    </span>┃<span style=\"font-weight: bold\"> Output Shape           </span>┃<span style=\"font-weight: bold\">       Param # </span>┃\n",
       "┡━━━━━━━━━━━━━━━━━━━━━━━━━━━━━━━━━╇━━━━━━━━━━━━━━━━━━━━━━━━╇━━━━━━━━━━━━━━━┩\n",
       "│ flatten (<span style=\"color: #0087ff; text-decoration-color: #0087ff\">Flatten</span>)               │ (<span style=\"color: #00d7ff; text-decoration-color: #00d7ff\">None</span>, <span style=\"color: #00af00; text-decoration-color: #00af00\">784</span>)            │             <span style=\"color: #00af00; text-decoration-color: #00af00\">0</span> │\n",
       "├─────────────────────────────────┼────────────────────────┼───────────────┤\n",
       "│ dense (<span style=\"color: #0087ff; text-decoration-color: #0087ff\">Dense</span>)                   │ (<span style=\"color: #00d7ff; text-decoration-color: #00d7ff\">None</span>, <span style=\"color: #00af00; text-decoration-color: #00af00\">784</span>)            │       <span style=\"color: #00af00; text-decoration-color: #00af00\">615,440</span> │\n",
       "├─────────────────────────────────┼────────────────────────┼───────────────┤\n",
       "│ dense_1 (<span style=\"color: #0087ff; text-decoration-color: #0087ff\">Dense</span>)                 │ (<span style=\"color: #00d7ff; text-decoration-color: #00d7ff\">None</span>, <span style=\"color: #00af00; text-decoration-color: #00af00\">32</span>)             │        <span style=\"color: #00af00; text-decoration-color: #00af00\">25,120</span> │\n",
       "├─────────────────────────────────┼────────────────────────┼───────────────┤\n",
       "│ dense_2 (<span style=\"color: #0087ff; text-decoration-color: #0087ff\">Dense</span>)                 │ (<span style=\"color: #00d7ff; text-decoration-color: #00d7ff\">None</span>, <span style=\"color: #00af00; text-decoration-color: #00af00\">10</span>)             │           <span style=\"color: #00af00; text-decoration-color: #00af00\">330</span> │\n",
       "└─────────────────────────────────┴────────────────────────┴───────────────┘\n",
       "</pre>\n"
      ],
      "text/plain": [
       "┏━━━━━━━━━━━━━━━━━━━━━━━━━━━━━━━━━┳━━━━━━━━━━━━━━━━━━━━━━━━┳━━━━━━━━━━━━━━━┓\n",
       "┃\u001b[1m \u001b[0m\u001b[1mLayer (type)                   \u001b[0m\u001b[1m \u001b[0m┃\u001b[1m \u001b[0m\u001b[1mOutput Shape          \u001b[0m\u001b[1m \u001b[0m┃\u001b[1m \u001b[0m\u001b[1m      Param #\u001b[0m\u001b[1m \u001b[0m┃\n",
       "┡━━━━━━━━━━━━━━━━━━━━━━━━━━━━━━━━━╇━━━━━━━━━━━━━━━━━━━━━━━━╇━━━━━━━━━━━━━━━┩\n",
       "│ flatten (\u001b[38;5;33mFlatten\u001b[0m)               │ (\u001b[38;5;45mNone\u001b[0m, \u001b[38;5;34m784\u001b[0m)            │             \u001b[38;5;34m0\u001b[0m │\n",
       "├─────────────────────────────────┼────────────────────────┼───────────────┤\n",
       "│ dense (\u001b[38;5;33mDense\u001b[0m)                   │ (\u001b[38;5;45mNone\u001b[0m, \u001b[38;5;34m784\u001b[0m)            │       \u001b[38;5;34m615,440\u001b[0m │\n",
       "├─────────────────────────────────┼────────────────────────┼───────────────┤\n",
       "│ dense_1 (\u001b[38;5;33mDense\u001b[0m)                 │ (\u001b[38;5;45mNone\u001b[0m, \u001b[38;5;34m32\u001b[0m)             │        \u001b[38;5;34m25,120\u001b[0m │\n",
       "├─────────────────────────────────┼────────────────────────┼───────────────┤\n",
       "│ dense_2 (\u001b[38;5;33mDense\u001b[0m)                 │ (\u001b[38;5;45mNone\u001b[0m, \u001b[38;5;34m10\u001b[0m)             │           \u001b[38;5;34m330\u001b[0m │\n",
       "└─────────────────────────────────┴────────────────────────┴───────────────┘\n"
      ]
     },
     "metadata": {},
     "output_type": "display_data"
    },
    {
     "data": {
      "text/html": [
       "<pre style=\"white-space:pre;overflow-x:auto;line-height:normal;font-family:Menlo,'DejaVu Sans Mono',consolas,'Courier New',monospace\"><span style=\"font-weight: bold\"> Total params: </span><span style=\"color: #00af00; text-decoration-color: #00af00\">640,890</span> (2.44 MB)\n",
       "</pre>\n"
      ],
      "text/plain": [
       "\u001b[1m Total params: \u001b[0m\u001b[38;5;34m640,890\u001b[0m (2.44 MB)\n"
      ]
     },
     "metadata": {},
     "output_type": "display_data"
    },
    {
     "data": {
      "text/html": [
       "<pre style=\"white-space:pre;overflow-x:auto;line-height:normal;font-family:Menlo,'DejaVu Sans Mono',consolas,'Courier New',monospace\"><span style=\"font-weight: bold\"> Trainable params: </span><span style=\"color: #00af00; text-decoration-color: #00af00\">640,890</span> (2.44 MB)\n",
       "</pre>\n"
      ],
      "text/plain": [
       "\u001b[1m Trainable params: \u001b[0m\u001b[38;5;34m640,890\u001b[0m (2.44 MB)\n"
      ]
     },
     "metadata": {},
     "output_type": "display_data"
    },
    {
     "data": {
      "text/html": [
       "<pre style=\"white-space:pre;overflow-x:auto;line-height:normal;font-family:Menlo,'DejaVu Sans Mono',consolas,'Courier New',monospace\"><span style=\"font-weight: bold\"> Non-trainable params: </span><span style=\"color: #00af00; text-decoration-color: #00af00\">0</span> (0.00 B)\n",
       "</pre>\n"
      ],
      "text/plain": [
       "\u001b[1m Non-trainable params: \u001b[0m\u001b[38;5;34m0\u001b[0m (0.00 B)\n"
      ]
     },
     "metadata": {},
     "output_type": "display_data"
    }
   ],
   "source": [
    "model = Sequential()\n",
    "\n",
    "model.add(Flatten(input_shape = (28, 28)))  # Transformation Layer\n",
    "model.add(Dense(784, activation='relu'))    # Hidden Layer 1\n",
    "model.add(Dense(32, activation='relu'))     # Hidden Layer 2\n",
    "model.add(Dense(10, activation='softmax'))  # Output Layer\n",
    "\n",
    "model.summary()"
   ]
  },
  {
   "cell_type": "code",
   "execution_count": 5,
   "id": "4b92c7ec",
   "metadata": {
    "execution": {
     "iopub.execute_input": "2024-09-02T13:51:35.783584Z",
     "iopub.status.busy": "2024-09-02T13:51:35.782600Z",
     "iopub.status.idle": "2024-09-02T13:51:35.798678Z",
     "shell.execute_reply": "2024-09-02T13:51:35.797494Z"
    },
    "papermill": {
     "duration": 0.027879,
     "end_time": "2024-09-02T13:51:35.801549",
     "exception": false,
     "start_time": "2024-09-02T13:51:35.773670",
     "status": "completed"
    },
    "tags": []
   },
   "outputs": [],
   "source": [
    "model.compile(loss = 'sparse_categorical_crossentropy', optimizer = 'Adam', metrics = ['accuracy'])"
   ]
  },
  {
   "cell_type": "markdown",
   "id": "758bb36c",
   "metadata": {
    "papermill": {
     "duration": 0.00729,
     "end_time": "2024-09-02T13:51:35.816500",
     "exception": false,
     "start_time": "2024-09-02T13:51:35.809210",
     "status": "completed"
    },
    "tags": []
   },
   "source": [
    "<HR>"
   ]
  },
  {
   "cell_type": "markdown",
   "id": "a4320cdf",
   "metadata": {
    "papermill": {
     "duration": 0.007121,
     "end_time": "2024-09-02T13:51:35.831020",
     "exception": false,
     "start_time": "2024-09-02T13:51:35.823899",
     "status": "completed"
    },
    "tags": []
   },
   "source": [
    "> ### MODEL TRAINING AND PREDICTION\n",
    "> The model's predictions are expressed as probabilities for each digit class. To obtain the final classification result, we need to convert these probabilities into discrete classes ranging from 0 to 9."
   ]
  },
  {
   "cell_type": "code",
   "execution_count": 6,
   "id": "121a6715",
   "metadata": {
    "execution": {
     "iopub.execute_input": "2024-09-02T13:51:35.847797Z",
     "iopub.status.busy": "2024-09-02T13:51:35.847354Z",
     "iopub.status.idle": "2024-09-02T13:53:16.420455Z",
     "shell.execute_reply": "2024-09-02T13:53:16.419227Z"
    },
    "papermill": {
     "duration": 100.585645,
     "end_time": "2024-09-02T13:53:16.424171",
     "exception": false,
     "start_time": "2024-09-02T13:51:35.838526",
     "status": "completed"
    },
    "tags": []
   },
   "outputs": [
    {
     "name": "stdout",
     "output_type": "stream",
     "text": [
      "Epoch 1/10\n",
      "\u001b[1m1500/1500\u001b[0m \u001b[32m━━━━━━━━━━━━━━━━━━━━\u001b[0m\u001b[37m\u001b[0m \u001b[1m12s\u001b[0m 7ms/step - accuracy: 0.8869 - loss: 0.3806 - val_accuracy: 0.9653 - val_loss: 0.1171\n",
      "Epoch 2/10\n",
      "\u001b[1m1500/1500\u001b[0m \u001b[32m━━━━━━━━━━━━━━━━━━━━\u001b[0m\u001b[37m\u001b[0m \u001b[1m10s\u001b[0m 7ms/step - accuracy: 0.9729 - loss: 0.0892 - val_accuracy: 0.9671 - val_loss: 0.1087\n",
      "Epoch 3/10\n",
      "\u001b[1m1500/1500\u001b[0m \u001b[32m━━━━━━━━━━━━━━━━━━━━\u001b[0m\u001b[37m\u001b[0m \u001b[1m10s\u001b[0m 7ms/step - accuracy: 0.9825 - loss: 0.0560 - val_accuracy: 0.9740 - val_loss: 0.0878\n",
      "Epoch 4/10\n",
      "\u001b[1m1500/1500\u001b[0m \u001b[32m━━━━━━━━━━━━━━━━━━━━\u001b[0m\u001b[37m\u001b[0m \u001b[1m10s\u001b[0m 7ms/step - accuracy: 0.9879 - loss: 0.0395 - val_accuracy: 0.9739 - val_loss: 0.0920\n",
      "Epoch 5/10\n",
      "\u001b[1m1500/1500\u001b[0m \u001b[32m━━━━━━━━━━━━━━━━━━━━\u001b[0m\u001b[37m\u001b[0m \u001b[1m10s\u001b[0m 6ms/step - accuracy: 0.9911 - loss: 0.0261 - val_accuracy: 0.9752 - val_loss: 0.0971\n",
      "Epoch 6/10\n",
      "\u001b[1m1500/1500\u001b[0m \u001b[32m━━━━━━━━━━━━━━━━━━━━\u001b[0m\u001b[37m\u001b[0m \u001b[1m10s\u001b[0m 6ms/step - accuracy: 0.9921 - loss: 0.0229 - val_accuracy: 0.9760 - val_loss: 0.0997\n",
      "Epoch 7/10\n",
      "\u001b[1m1500/1500\u001b[0m \u001b[32m━━━━━━━━━━━━━━━━━━━━\u001b[0m\u001b[37m\u001b[0m \u001b[1m10s\u001b[0m 7ms/step - accuracy: 0.9937 - loss: 0.0205 - val_accuracy: 0.9780 - val_loss: 0.0931\n",
      "Epoch 8/10\n",
      "\u001b[1m1500/1500\u001b[0m \u001b[32m━━━━━━━━━━━━━━━━━━━━\u001b[0m\u001b[37m\u001b[0m \u001b[1m10s\u001b[0m 7ms/step - accuracy: 0.9945 - loss: 0.0160 - val_accuracy: 0.9765 - val_loss: 0.1015\n",
      "Epoch 9/10\n",
      "\u001b[1m1500/1500\u001b[0m \u001b[32m━━━━━━━━━━━━━━━━━━━━\u001b[0m\u001b[37m\u001b[0m \u001b[1m10s\u001b[0m 7ms/step - accuracy: 0.9960 - loss: 0.0131 - val_accuracy: 0.9737 - val_loss: 0.1251\n",
      "Epoch 10/10\n",
      "\u001b[1m1500/1500\u001b[0m \u001b[32m━━━━━━━━━━━━━━━━━━━━\u001b[0m\u001b[37m\u001b[0m \u001b[1m10s\u001b[0m 7ms/step - accuracy: 0.9964 - loss: 0.0114 - val_accuracy: 0.9794 - val_loss: 0.1159\n"
     ]
    }
   ],
   "source": [
    "history = model.fit(X_train, y_train, epochs = 10, verbose = 1, validation_split = 0.2)"
   ]
  },
  {
   "cell_type": "markdown",
   "id": "23d576b4",
   "metadata": {
    "papermill": {
     "duration": 0.171242,
     "end_time": "2024-09-02T13:53:16.771667",
     "exception": false,
     "start_time": "2024-09-02T13:53:16.600425",
     "status": "completed"
    },
    "tags": []
   },
   "source": [
    "> Make sure to `increase the number of epochs` for `better Accuracy`"
   ]
  },
  {
   "cell_type": "code",
   "execution_count": 7,
   "id": "e17dbf67",
   "metadata": {
    "execution": {
     "iopub.execute_input": "2024-09-02T13:53:17.118847Z",
     "iopub.status.busy": "2024-09-02T13:53:17.118382Z",
     "iopub.status.idle": "2024-09-02T13:53:18.166664Z",
     "shell.execute_reply": "2024-09-02T13:53:18.165656Z"
    },
    "papermill": {
     "duration": 1.225063,
     "end_time": "2024-09-02T13:53:18.169184",
     "exception": false,
     "start_time": "2024-09-02T13:53:16.944121",
     "status": "completed"
    },
    "tags": []
   },
   "outputs": [
    {
     "name": "stdout",
     "output_type": "stream",
     "text": [
      "\u001b[1m313/313\u001b[0m \u001b[32m━━━━━━━━━━━━━━━━━━━━\u001b[0m\u001b[37m\u001b[0m \u001b[1m1s\u001b[0m 2ms/step\n"
     ]
    },
    {
     "data": {
      "text/plain": [
       "array([4.6838916e-13, 1.2266864e-12, 6.9533421e-11, 3.0568877e-11,\n",
       "       5.1902817e-18, 9.0910860e-15, 7.7054155e-15, 9.9999994e-01,\n",
       "       1.4772018e-12, 2.2924802e-10], dtype=float32)"
      ]
     },
     "execution_count": 7,
     "metadata": {},
     "output_type": "execute_result"
    }
   ],
   "source": [
    "model.predict(X_test)[0]"
   ]
  },
  {
   "cell_type": "code",
   "execution_count": 8,
   "id": "c1fed39e",
   "metadata": {
    "execution": {
     "iopub.execute_input": "2024-09-02T13:53:18.578965Z",
     "iopub.status.busy": "2024-09-02T13:53:18.578514Z",
     "iopub.status.idle": "2024-09-02T13:53:19.450919Z",
     "shell.execute_reply": "2024-09-02T13:53:19.449730Z"
    },
    "papermill": {
     "duration": 1.049763,
     "end_time": "2024-09-02T13:53:19.453644",
     "exception": false,
     "start_time": "2024-09-02T13:53:18.403881",
     "status": "completed"
    },
    "tags": []
   },
   "outputs": [
    {
     "name": "stdout",
     "output_type": "stream",
     "text": [
      "\u001b[1m313/313\u001b[0m \u001b[32m━━━━━━━━━━━━━━━━━━━━\u001b[0m\u001b[37m\u001b[0m \u001b[1m1s\u001b[0m 2ms/step\n"
     ]
    }
   ],
   "source": [
    "y_pred = model.predict(X_test).argmax(axis = 1)"
   ]
  },
  {
   "cell_type": "code",
   "execution_count": 9,
   "id": "f7700ef7",
   "metadata": {
    "execution": {
     "iopub.execute_input": "2024-09-02T13:53:19.805268Z",
     "iopub.status.busy": "2024-09-02T13:53:19.804810Z",
     "iopub.status.idle": "2024-09-02T13:53:19.813962Z",
     "shell.execute_reply": "2024-09-02T13:53:19.812911Z"
    },
    "papermill": {
     "duration": 0.186734,
     "end_time": "2024-09-02T13:53:19.816419",
     "exception": false,
     "start_time": "2024-09-02T13:53:19.629685",
     "status": "completed"
    },
    "tags": []
   },
   "outputs": [
    {
     "data": {
      "text/plain": [
       "0.9795"
      ]
     },
     "execution_count": 9,
     "metadata": {},
     "output_type": "execute_result"
    }
   ],
   "source": [
    "accuracy_score(y_test, y_pred)"
   ]
  },
  {
   "cell_type": "markdown",
   "id": "59552a1d",
   "metadata": {
    "papermill": {
     "duration": 0.174349,
     "end_time": "2024-09-02T13:53:20.162578",
     "exception": false,
     "start_time": "2024-09-02T13:53:19.988229",
     "status": "completed"
    },
    "tags": []
   },
   "source": [
    "<hr>"
   ]
  },
  {
   "cell_type": "markdown",
   "id": "c983dd74",
   "metadata": {
    "papermill": {
     "duration": 0.172794,
     "end_time": "2024-09-02T13:53:20.508339",
     "exception": false,
     "start_time": "2024-09-02T13:53:20.335545",
     "status": "completed"
    },
    "tags": []
   },
   "source": [
    "> ### ANALYSIS OF LOSS AND ACCURACY\n",
    "> The `history` object records the values of metrics and loss for each epoch based on the configurations specified in the compile method."
   ]
  },
  {
   "cell_type": "code",
   "execution_count": 10,
   "id": "3fa1b80c",
   "metadata": {
    "execution": {
     "iopub.execute_input": "2024-09-02T13:53:20.855904Z",
     "iopub.status.busy": "2024-09-02T13:53:20.855445Z",
     "iopub.status.idle": "2024-09-02T13:53:21.573295Z",
     "shell.execute_reply": "2024-09-02T13:53:21.572138Z"
    },
    "papermill": {
     "duration": 0.894244,
     "end_time": "2024-09-02T13:53:21.575763",
     "exception": false,
     "start_time": "2024-09-02T13:53:20.681519",
     "status": "completed"
    },
    "tags": []
   },
   "outputs": [
    {
     "data": {
      "image/png": "[encoded data removed]",
      "text/plain": [
       "<Figure size 2000x700 with 2 Axes>"
      ]
     },
     "metadata": {},
     "output_type": "display_data"
    }
   ],
   "source": [
    "import matplotlib.pyplot as plt\n",
    "\n",
    "fig, ax = plt.subplots(nrows=1, ncols = 2)\n",
    "\n",
    "fig.set_figwidth(20)\n",
    "fig.set_figheight(7)\n",
    "\n",
    "ax[0].plot(history.history['val_loss'], label = 'Validation loss')\n",
    "ax[0].plot(history.history['loss'], label = 'Training loss')\n",
    "ax[0].legend()\n",
    "ax[0].set_xlabel('epochs')\n",
    "ax[0].set_ylabel('loss')\n",
    "ax[0].set_ylim(0, 0.5)\n",
    "ax[0].set_title('ANALYSIS OF LOSS')\n",
    "\n",
    "ax[1].plot(history.history['val_accuracy'], label = 'Validation accuracy')\n",
    "ax[1].plot(history.history['accuracy'], label = 'Training accuracy')\n",
    "ax[1].legend()\n",
    "ax[1].set_xlabel('epochs')\n",
    "ax[1].set_ylabel('accuracy')\n",
    "ax[1].set_ylim(0.9, 1.1)\n",
    "ax[1].set_title('ANALYSIS OF ACCURACY')\n",
    "\n",
    "fig.show()"
   ]
  }
 ],
 "metadata": {
  "kaggle": {
   "accelerator": "none",
   "dataSources": [],
   "dockerImageVersionId": 30761,
   "isGpuEnabled": false,
   "isInternetEnabled": true,
   "language": "python",
   "sourceType": "notebook"
  },
  "kernelspec": {
   "display_name": "Python 3",
   "language": "python",
   "name": "python3"
  },
  "language_info": {
   "codemirror_mode": {
    "name": "ipython",
    "version": 3
   },
   "file_extension": ".py",
   "mimetype": "text/x-python",
   "name": "python",
   "nbconvert_exporter": "python",
   "pygments_lexer": "ipython3",
   "version": "3.10.14"
  },
  "papermill": {
   "default_parameters": {},
   "duration": 128.607295,
   "end_time": "2024-09-02T13:53:23.379481",
   "environment_variables": {},
   "exception": null,
   "input_path": "__notebook__.ipynb",
   "output_path": "__notebook__.ipynb",
   "parameters": {},
   "start_time": "2024-09-02T13:51:14.772186",
   "version": "2.6.0"
  }
 },
 "nbformat": 4,
 "nbformat_minor": 5
}
